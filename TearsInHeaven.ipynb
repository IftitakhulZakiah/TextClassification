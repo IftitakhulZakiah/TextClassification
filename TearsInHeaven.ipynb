{
 "cells": [
  {
   "cell_type": "code",
   "execution_count": 1,
   "metadata": {},
   "outputs": [],
   "source": [
    "import pandas as pd\n",
    "import numpy as np\n",
    "# from gensim.models import Word2Vec\n",
    "# from gensim.models.doc2vec import TaggedDocument\n",
    "import json\n",
    "from sklearn.model_selection import train_test_split\n",
    "import string as string\n",
    "import time\n",
    "import re\n",
    "from Sastrawi.StopWordRemover.StopWordRemoverFactory import StopWordRemoverFactory\n",
    "from Sastrawi.Stemmer.StemmerFactory import StemmerFactory\n",
    "\n",
    "from sklearn.feature_extraction.text import CountVectorizer\n",
    "from sklearn.feature_extraction.text import TfidfVectorizer\n",
    "from sklearn.feature_selection import VarianceThreshold\n",
    "from nltk.tokenize import word_tokenize\n",
    "\n",
    "from sklearn.model_selection import train_test_split\n",
    "\n",
    "from sklearn.linear_model import LogisticRegression\n",
    "from sklearn.neighbors import KNeighborsClassifier\n",
    "from sklearn.tree import DecisionTreeClassifier\n",
    "from sklearn.svm import SVC\n",
    "\n",
    "from sklearn.metrics import f1_score\n",
    "from sklearn.metrics import accuracy_score\n",
    "from sklearn.metrics import precision_score\n",
    "from sklearn.metrics import recall_score\n",
    "from sklearn.metrics import confusion_matrix\n",
    "from sklearn.metrics import make_scorer"
   ]
  },
  {
   "cell_type": "code",
   "execution_count": 2,
   "metadata": {},
   "outputs": [
    {
     "data": {
      "text/html": [
       "<div>\n",
       "<style scoped>\n",
       "    .dataframe tbody tr th:only-of-type {\n",
       "        vertical-align: middle;\n",
       "    }\n",
       "\n",
       "    .dataframe tbody tr th {\n",
       "        vertical-align: top;\n",
       "    }\n",
       "\n",
       "    .dataframe thead th {\n",
       "        text-align: right;\n",
       "    }\n",
       "</style>\n",
       "<table border=\"1\" class=\"dataframe\">\n",
       "  <thead>\n",
       "    <tr style=\"text-align: right;\">\n",
       "      <th></th>\n",
       "      <th>ID</th>\n",
       "      <th>Timestamp</th>\n",
       "      <th>Tweet</th>\n",
       "      <th>Keluhan</th>\n",
       "      <th>Respon</th>\n",
       "      <th>Bukan Keluhan/Respon</th>\n",
       "      <th>Topik Umum</th>\n",
       "      <th>Topik Spesifik</th>\n",
       "      <th>Lokasi</th>\n",
       "      <th>Waktu</th>\n",
       "      <th>Unnamed: 10</th>\n",
       "    </tr>\n",
       "  </thead>\n",
       "  <tbody>\n",
       "    <tr>\n",
       "      <th>0</th>\n",
       "      <td>6.788450e+17</td>\n",
       "      <td>21 Des 2015, 02:50:25 PM</td>\n",
       "      <td>@EL_Atheos @ridwankamil ya mungkin karena pere...</td>\n",
       "      <td>NaN</td>\n",
       "      <td>NaN</td>\n",
       "      <td>Ya</td>\n",
       "      <td>Bukan Keluhan</td>\n",
       "      <td>-</td>\n",
       "      <td>-</td>\n",
       "      <td>-</td>\n",
       "      <td>NaN</td>\n",
       "    </tr>\n",
       "    <tr>\n",
       "      <th>1</th>\n",
       "      <td>6.788460e+17</td>\n",
       "      <td>21 Des 2015, 02:53:02 PM</td>\n",
       "      <td>@ridwankamil @dbmpkotabdg kang teman saya tert...</td>\n",
       "      <td>Ya</td>\n",
       "      <td>NaN</td>\n",
       "      <td>NaN</td>\n",
       "      <td>Lingkungan Hidup</td>\n",
       "      <td>pohon tumbang</td>\n",
       "      <td>Jalan Sangkuriang depan Polsek Coblong</td>\n",
       "      <td>-</td>\n",
       "      <td>NaN</td>\n",
       "    </tr>\n",
       "    <tr>\n",
       "      <th>2</th>\n",
       "      <td>6.788470e+17</td>\n",
       "      <td>21 Des 2015, 02:57:55 PM</td>\n",
       "      <td>Di tribun jabar biasanya suka di post agenda k...</td>\n",
       "      <td>NaN</td>\n",
       "      <td>NaN</td>\n",
       "      <td>Ya</td>\n",
       "      <td>Bukan Keluhan</td>\n",
       "      <td>-</td>\n",
       "      <td>-</td>\n",
       "      <td>-</td>\n",
       "      <td>NaN</td>\n",
       "    </tr>\n",
       "    <tr>\n",
       "      <th>3</th>\n",
       "      <td>6.788470e+17</td>\n",
       "      <td>21 Des 2015, 02:58:54 PM</td>\n",
       "      <td>@dbmpkotabdg RT @fajriattack: Lapor pak @ridwa...</td>\n",
       "      <td>Ya</td>\n",
       "      <td>NaN</td>\n",
       "      <td>NaN</td>\n",
       "      <td>Infrastruktur</td>\n",
       "      <td>lampu penerangan jalan umum</td>\n",
       "      <td>Jalan depan Kampus LPKIA</td>\n",
       "      <td>-</td>\n",
       "      <td>NaN</td>\n",
       "    </tr>\n",
       "    <tr>\n",
       "      <th>4</th>\n",
       "      <td>6.788490e+17</td>\n",
       "      <td>21 Des 2015, 03:06:49 PM</td>\n",
       "      <td>@diskamtam bapak/ibu mau tanya, kalo pemelihar...</td>\n",
       "      <td>NaN</td>\n",
       "      <td>NaN</td>\n",
       "      <td>Ya</td>\n",
       "      <td>Bukan Keluhan</td>\n",
       "      <td>-</td>\n",
       "      <td>-</td>\n",
       "      <td>-</td>\n",
       "      <td>NaN</td>\n",
       "    </tr>\n",
       "  </tbody>\n",
       "</table>\n",
       "</div>"
      ],
      "text/plain": [
       "             ID                 Timestamp  \\\n",
       "0  6.788450e+17  21 Des 2015, 02:50:25 PM   \n",
       "1  6.788460e+17  21 Des 2015, 02:53:02 PM   \n",
       "2  6.788470e+17  21 Des 2015, 02:57:55 PM   \n",
       "3  6.788470e+17  21 Des 2015, 02:58:54 PM   \n",
       "4  6.788490e+17  21 Des 2015, 03:06:49 PM   \n",
       "\n",
       "                                               Tweet Keluhan Respon  \\\n",
       "0  @EL_Atheos @ridwankamil ya mungkin karena pere...     NaN    NaN   \n",
       "1  @ridwankamil @dbmpkotabdg kang teman saya tert...      Ya    NaN   \n",
       "2  Di tribun jabar biasanya suka di post agenda k...     NaN    NaN   \n",
       "3  @dbmpkotabdg RT @fajriattack: Lapor pak @ridwa...      Ya    NaN   \n",
       "4  @diskamtam bapak/ibu mau tanya, kalo pemelihar...     NaN    NaN   \n",
       "\n",
       "  Bukan Keluhan/Respon        Topik Umum               Topik Spesifik  \\\n",
       "0                   Ya     Bukan Keluhan                            -   \n",
       "1                  NaN  Lingkungan Hidup                pohon tumbang   \n",
       "2                   Ya     Bukan Keluhan                            -   \n",
       "3                  NaN     Infrastruktur  lampu penerangan jalan umum   \n",
       "4                   Ya     Bukan Keluhan                            -   \n",
       "\n",
       "                                   Lokasi Waktu  Unnamed: 10  \n",
       "0                                       -      -         NaN  \n",
       "1  Jalan Sangkuriang depan Polsek Coblong      -         NaN  \n",
       "2                                       -      -         NaN  \n",
       "3                Jalan depan Kampus LPKIA      -         NaN  \n",
       "4                                       -      -         NaN  "
      ]
     },
     "execution_count": 2,
     "metadata": {},
     "output_type": "execute_result"
    }
   ],
   "source": [
    "doc = pd.read_csv('data/keluhan.csv', encoding='ISO-8859-1')\n",
    "# doc['Keluhan'] = doc['Keluhan'].map({'Ya':1}).fillna(0)\n",
    "# doc['Bukan Keluhan/Respon'] = doc['Bukan Keluhan/Respon'].map({'Ya':1}).fillna(0)\n",
    "# doc['Respon'] = doc['Respon'].map({'Ya':'1'}).fillna(0)\n",
    "X = doc['Tweet']\n",
    "doc.head()"
   ]
  },
  {
   "cell_type": "code",
   "execution_count": 3,
   "metadata": {},
   "outputs": [],
   "source": [
    "data = doc.loc[:, 'Tweet':'Bukan Keluhan/Respon']\n",
    "temp = doc['Keluhan'].values.tolist()\n",
    "idx_keluhan = [i for i, x in enumerate(temp) if x == 'Ya']\n",
    "\n",
    "temp = doc['Respon'].values.tolist()\n",
    "idx_respon = [i for i, x in enumerate(temp) if x == 'Ya']\n",
    "\n",
    "temp = doc['Bukan Keluhan/Respon'].values.tolist()\n",
    "idx_notboth = [i for i, x in enumerate(temp) if x == 'Ya']\n",
    "\n",
    "# create 1 column for label\n",
    "y = []\n",
    "for i in range (0,len(data)):\n",
    "    if i in idx_keluhan:\n",
    "        y.append(0)\n",
    "    elif i in idx_respon:\n",
    "        y.append(1)\n",
    "    else:\n",
    "        y.append(2)"
   ]
  },
  {
   "cell_type": "code",
   "execution_count": 4,
   "metadata": {},
   "outputs": [
    {
     "data": {
      "text/plain": [
       "'@ridwankamil @dbmpkotabdg kang teman saya tertimpa pohn dijln sangkuriang dpn polsek coblong tlg ditertibkan phn yg sdh lapuknuhun'"
      ]
     },
     "execution_count": 4,
     "metadata": {},
     "output_type": "execute_result"
    }
   ],
   "source": [
    "def removeURL(raw):\n",
    "    cleanr = re.compile(\"http[s]?://(?:[a-zA-Z]|[0-9]|[$-_@.&+]|[!*\\(\\),]|(?:%[0-9a-fA-F][0-9a-fA-F]))+\")\n",
    "    cleantext = re.sub(cleanr, '', raw)\n",
    "    \n",
    "    return cleantext\n",
    "\n",
    "preprocess = []\n",
    "\n",
    "for i in range(len(X)):\n",
    "    preprocess.append(removeURL(X[i]))\n",
    "\n",
    "X = preprocess\n",
    "\n",
    "X[1]"
   ]
  },
  {
   "cell_type": "code",
   "execution_count": 5,
   "metadata": {},
   "outputs": [
    {
     "data": {
      "text/plain": [
       "'ridwankamil dbmpkotabdg kang teman saya tertimpa pohn dijln sangkuriang dpn polsek coblong tlg ditertibkan phn yg sdh lapuknuhun'"
      ]
     },
     "execution_count": 5,
     "metadata": {},
     "output_type": "execute_result"
    }
   ],
   "source": [
    "def removeTag(raw):\n",
    "    cleanr = re.compile(\"@\")\n",
    "    cleantext = re.sub(cleanr, '', raw)\n",
    "    \n",
    "    return cleantext\n",
    "\n",
    "preprocess = []\n",
    "\n",
    "for i in range(len(X)):\n",
    "    preprocess.append(removeTag(X[i]))\n",
    "\n",
    "X = preprocess\n",
    "\n",
    "X[1]"
   ]
  },
  {
   "cell_type": "code",
   "execution_count": 6,
   "metadata": {},
   "outputs": [
    {
     "data": {
      "text/plain": [
       "'ridwankamil dbmpkotabdg kang teman saya tertimpa pohn dijln sangkuriang dpn polsek coblong tlg ditertibkan phn yg sdh lapuknuhun'"
      ]
     },
     "execution_count": 6,
     "metadata": {},
     "output_type": "execute_result"
    }
   ],
   "source": [
    "def removedPunctutation(text):\n",
    "    removed = set(string.punctuation)\n",
    "    \n",
    "    return ''.join(w for w in text if w not in removed)\n",
    "\n",
    "preprocess = []\n",
    "\n",
    "for i in range(len(X)):\n",
    "    preprocess.append(removedPunctutation(X[i]))\n",
    "\n",
    "X = preprocess\n",
    "X[1]"
   ]
  },
  {
   "cell_type": "code",
   "execution_count": 7,
   "metadata": {},
   "outputs": [
    {
     "data": {
      "text/plain": [
       "'ridwankamil dbmpkotabdg kang teman tertimpa pohn dijln sangkuriang dpn polsek coblong tlg ditertibkan phn yg sdh lapuknuhun'"
      ]
     },
     "execution_count": 7,
     "metadata": {},
     "output_type": "execute_result"
    }
   ],
   "source": [
    "def removeStopWord(text):\n",
    "    factory = StopWordRemoverFactory()\n",
    "    stopword = factory.create_stop_word_remover()\n",
    "    return stopword.remove(text)\n",
    "\n",
    "preprocess = []\n",
    "\n",
    "for i in range(len(X)):\n",
    "    preprocess.append(removeStopWord(X[i]))\n",
    "\n",
    "X = preprocess\n",
    "X[1]"
   ]
  },
  {
   "cell_type": "code",
   "execution_count": 8,
   "metadata": {},
   "outputs": [],
   "source": [
    "# def stemWord(text):\n",
    "#     factory = StemmerFactory()\n",
    "#     stemmer = factory.create_stemmer()\n",
    "    \n",
    "#     return stemmer.stem(text)\n",
    "\n",
    "# preprocess = []\n",
    "\n",
    "# for i in range(len(X)):\n",
    "#     preprocess.append(stemWord(X[i]))\n",
    "\n",
    "# X = preprocess\n",
    "# X[1]"
   ]
  },
  {
   "cell_type": "code",
   "execution_count": 9,
   "metadata": {},
   "outputs": [],
   "source": [
    "def stemWord(w):\n",
    "    factory = StemmerFactory()\n",
    "    stemmer = factory.create_stemmer()\n",
    "    \n",
    "    words = word_tokenize(w)\n",
    "    \n",
    "    sentence = ''\n",
    "    for word in words:\n",
    "        sentence += str(stemmer.stem(word)) + ' '\n",
    "    return sentence\n",
    "\n",
    "def stemming(X):\n",
    "    preprocess1 = []\n",
    "\n",
    "    for i in range(len(X)):\n",
    "        preprocess1.append(stemWord(X[i]))\n",
    "    \n",
    "    return preprocess1"
   ]
  },
  {
   "cell_type": "code",
   "execution_count": 10,
   "metadata": {},
   "outputs": [],
   "source": [
    "# data_stem = stemming(X)"
   ]
  },
  {
   "cell_type": "markdown",
   "metadata": {},
   "source": [
    "# Ekstraksi Fitur"
   ]
  },
  {
   "cell_type": "code",
   "execution_count": 11,
   "metadata": {},
   "outputs": [],
   "source": [
    "count_vect = CountVectorizer()\n",
    "count_vect.fit(X)\n",
    "x = count_vect.transform(X)\n",
    "\n",
    "# Y=X\n",
    "# x_vec = count_vect.transform(Y)\n",
    "# x = mutual_info_classif(x_vec, y)"
   ]
  },
  {
   "cell_type": "code",
   "execution_count": 12,
   "metadata": {},
   "outputs": [
    {
     "name": "stdout",
     "output_type": "stream",
     "text": [
      "7527\n",
      "7527\n"
     ]
    }
   ],
   "source": [
    "print(len(X))\n",
    "# print(x_vec.shape[0])\n",
    "# print(x.shape[0])\n",
    "print(len(y))"
   ]
  },
  {
   "cell_type": "code",
   "execution_count": 13,
   "metadata": {},
   "outputs": [],
   "source": [
    "# vectorizer = TfidfVectorizer()\n",
    "# x = vectorizer.fit_transform(X) "
   ]
  },
  {
   "cell_type": "code",
   "execution_count": 14,
   "metadata": {},
   "outputs": [
    {
     "name": "stdout",
     "output_type": "stream",
     "text": [
      "7527\n",
      "7527\n",
      "7527\n"
     ]
    }
   ],
   "source": [
    "print(len(X))\n",
    "# print(x_vec.shape[0])\n",
    "print(x.shape[0])\n",
    "print(len(y))"
   ]
  },
  {
   "cell_type": "code",
   "execution_count": 15,
   "metadata": {},
   "outputs": [],
   "source": [
    "# Y=X\n",
    "# x_vec = vectorizer.fit_transform(Y)\n",
    "# x = mutual_info_classif(x_vec, y, discrete_features=True)"
   ]
  },
  {
   "cell_type": "code",
   "execution_count": 16,
   "metadata": {},
   "outputs": [],
   "source": [
    "# vectorizer = VarianceThreshold()\n",
    "# vectorizer.fit(x) \n",
    "# x = vectorizer.transform(x) "
   ]
  },
  {
   "cell_type": "code",
   "execution_count": 17,
   "metadata": {},
   "outputs": [],
   "source": [
    "text_train, text_test, y_train, y_test = train_test_split(X, y, test_size=0.25, random_state=42)"
   ]
  },
  {
   "cell_type": "code",
   "execution_count": 18,
   "metadata": {},
   "outputs": [],
   "source": [
    "x_train, x_test, y_train, y_test = train_test_split(x, y, test_size=0.25, random_state=42)"
   ]
  },
  {
   "cell_type": "code",
   "execution_count": 19,
   "metadata": {},
   "outputs": [
    {
     "name": "stdout",
     "output_type": "stream",
     "text": [
      "F1 Score KNN :  0.7808472232854017\n",
      "Accuracy Score KNN :  0.7699256110520722\n",
      "Precision Score KNN :  0.7842607907777176\n",
      "Recall Score KNN :  0.8624425989530717\n"
     ]
    }
   ],
   "source": [
    "neigh = KNeighborsClassifier(n_neighbors=3)\n",
    "\n",
    "neigh.fit(x_train, y_train)\n",
    "\n",
    "neigh_pred = neigh.predict(x_test)\n",
    "print('F1 Score KNN : ', f1_score(neigh_pred, y_test, average='macro'))\n",
    "print('Accuracy Score KNN : ', accuracy_score(neigh_pred, y_test))\n",
    "print('Precision Score KNN : ', precision_score(neigh_pred, y_test, average='macro'))\n",
    "print('Recall Score KNN : ', recall_score(neigh_pred, y_test, average='macro'))"
   ]
  },
  {
   "cell_type": "code",
   "execution_count": 20,
   "metadata": {},
   "outputs": [
    {
     "name": "stdout",
     "output_type": "stream",
     "text": [
      "F1 Score DTL :  0.8600665860698706\n",
      "Accuracy Score DTL :  0.8336875664187035\n",
      "Precision Score DTL :  0.8573935971781251\n",
      "Recall Score DTL :  0.86281808014571\n"
     ]
    }
   ],
   "source": [
    "tree = DecisionTreeClassifier()\n",
    "\n",
    "tree.fit(x_train, y_train)\n",
    "\n",
    "tree_pred = tree.predict(x_test)\n",
    "print('F1 Score DTL : ', f1_score(tree_pred, y_test, average='macro'))\n",
    "print('Accuracy Score DTL : ', accuracy_score(tree_pred, y_test))\n",
    "print('Precision Score DTL : ', precision_score(tree_pred, y_test, average='macro'))\n",
    "print('Recall Score DTL : ', recall_score(tree_pred, y_test, average='macro'))"
   ]
  },
  {
   "cell_type": "code",
   "execution_count": 21,
   "metadata": {},
   "outputs": [
    {
     "name": "stdout",
     "output_type": "stream",
     "text": [
      "F1 Score SVM :  0.9113717052178592\n",
      "Accuracy Score SVM :  0.895855472901169\n",
      "Precision Score SVM :  0.9097228002975005\n",
      "Recall Score SVM :  0.9130869707667788\n"
     ]
    }
   ],
   "source": [
    "from sklearn.multiclass import OneVsRestClassifier\n",
    "from sklearn.svm import LinearSVC\n",
    "svc = OneVsRestClassifier(LinearSVC())\n",
    "\n",
    "svc.fit(x_train, y_train)\n",
    "svc_pred = svc.predict(x_test)\n",
    "\n",
    "print('F1 Score SVM : ', f1_score(svc_pred, y_test, average='macro'))\n",
    "print('Accuracy Score SVM : ', accuracy_score(svc_pred, y_test))\n",
    "print('Precision Score SVM : ', precision_score(svc_pred, y_test, average='macro'))\n",
    "print('Recall Score SVM : ', recall_score(svc_pred, y_test, average='macro'))"
   ]
  },
  {
   "cell_type": "code",
   "execution_count": null,
   "metadata": {},
   "outputs": [],
   "source": []
  },
  {
   "cell_type": "code",
   "execution_count": null,
   "metadata": {},
   "outputs": [],
   "source": []
  },
  {
   "cell_type": "code",
   "execution_count": null,
   "metadata": {},
   "outputs": [],
   "source": []
  }
 ],
 "metadata": {
  "kernelspec": {
   "display_name": "Python 3",
   "language": "python",
   "name": "python3"
  },
  "language_info": {
   "codemirror_mode": {
    "name": "ipython",
    "version": 3
   },
   "file_extension": ".py",
   "mimetype": "text/x-python",
   "name": "python",
   "nbconvert_exporter": "python",
   "pygments_lexer": "ipython3",
   "version": "3.7.0"
  }
 },
 "nbformat": 4,
 "nbformat_minor": 2
}
